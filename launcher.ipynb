{
 "cells": [
  {
   "cell_type": "code",
   "execution_count": 1,
   "metadata": {},
   "outputs": [],
   "source": [
    "%load_ext autoreload\n",
    "%autoreload 2"
   ]
  },
  {
   "cell_type": "code",
   "execution_count": 2,
   "metadata": {},
   "outputs": [],
   "source": [
    "import data\n",
    "from pathlib import Path\n",
    "\n",
    "data.convert_files(Path('./texts'), Path('./clean_texts'))"
   ]
  },
  {
   "cell_type": "code",
   "execution_count": 5,
   "metadata": {},
   "outputs": [
    {
     "name": "stdout",
     "output_type": "stream",
     "text": [
      "\n",
      "\n",
      "\n",
      "\n",
      "\n",
      "\n"
     ]
    }
   ],
   "source": [
    "data.train_tokenizers(Path('./clean_texts'), Path('./tokenizers'))"
   ]
  },
  {
   "cell_type": "code",
   "execution_count": 6,
   "metadata": {},
   "outputs": [],
   "source": [
    "from tokenizers import Tokenizer\n",
    "\n",
    "tokenizer = Tokenizer.from_file(\"tokenizers/tokenizer_en.json\")"
   ]
  },
  {
   "cell_type": "code",
   "execution_count": 18,
   "metadata": {},
   "outputs": [
    {
     "data": {
      "text/plain": [
       "<enum 'SpecialTokens'>"
      ]
     },
     "execution_count": 18,
     "metadata": {},
     "output_type": "execute_result"
    }
   ],
   "source": [
    "data.SpecialTokens"
   ]
  },
  {
   "cell_type": "code",
   "execution_count": 20,
   "metadata": {},
   "outputs": [],
   "source": [
    "from tokenizers.processors import TemplateProcessing\n",
    "tokenizer.post_processor = TemplateProcessing(\n",
    "    single=\"[BOS] $A [EOS]\",\n",
    "    special_tokens=[\n",
    "        (\"[BOS]\", 2),\n",
    "        (\"[EOS]\", 3),\n",
    "    ],\n",
    ")"
   ]
  },
  {
   "cell_type": "code",
   "execution_count": 42,
   "metadata": {},
   "outputs": [
    {
     "ename": "AttributeError",
     "evalue": "'TranslationDataset' object has no attribute 'src_tokens'",
     "output_type": "error",
     "traceback": [
      "\u001b[0;31m---------------------------------------------------------------------------\u001b[0m",
      "\u001b[0;31mAttributeError\u001b[0m                            Traceback (most recent call last)",
      "Cell \u001b[0;32mIn [42], line 1\u001b[0m\n\u001b[0;32m----> 1\u001b[0m data\u001b[39m.\u001b[39;49mTranslationDataset(\n\u001b[1;32m      2\u001b[0m     \u001b[39m\"\u001b[39;49m\u001b[39m./clean_texts/train.en.txt\u001b[39;49m\u001b[39m\"\u001b[39;49m,\n\u001b[1;32m      3\u001b[0m     \u001b[39m\"\u001b[39;49m\u001b[39m./clean_texts/val.en.txt\u001b[39;49m\u001b[39m\"\u001b[39;49m,\n\u001b[1;32m      4\u001b[0m     Tokenizer\u001b[39m.\u001b[39;49mfrom_file(\u001b[39m\"\u001b[39;49m\u001b[39mtokenizers/tokenizer_en.json\u001b[39;49m\u001b[39m\"\u001b[39;49m),\n\u001b[1;32m      5\u001b[0m     Tokenizer\u001b[39m.\u001b[39;49mfrom_file(\u001b[39m\"\u001b[39;49m\u001b[39mtokenizers/tokenizer_de.json\u001b[39;49m\u001b[39m\"\u001b[39;49m)\n\u001b[1;32m      6\u001b[0m )\n",
      "File \u001b[0;32m~/Documents/DL/data.py:99\u001b[0m, in \u001b[0;36mTranslationDataset.__init__\u001b[0;34m(self, src_file_path, tgt_file_path, src_tokenizer, tgt_tokenizer, max_len)\u001b[0m\n\u001b[1;32m     97\u001b[0m     \u001b[39mfor\u001b[39;00m line \u001b[39min\u001b[39;00m src_file:\n\u001b[1;32m     98\u001b[0m         \u001b[39mself\u001b[39m\u001b[39m.\u001b[39msrc_lines\u001b[39m.\u001b[39mappend(line\u001b[39m.\u001b[39mstrip())\n\u001b[0;32m---> 99\u001b[0m         \u001b[39mself\u001b[39;49m\u001b[39m.\u001b[39;49msrc_tokens\u001b[39m.\u001b[39mappend(\u001b[39mself\u001b[39m\u001b[39m.\u001b[39msrc_tokenizer\u001b[39m.\u001b[39mencoder(line)\u001b[39m.\u001b[39mids)\n\u001b[1;32m    100\u001b[0m \u001b[39mself\u001b[39m\u001b[39m.\u001b[39mtgt_lines \u001b[39m=\u001b[39m []\n\u001b[1;32m    101\u001b[0m \u001b[39mself\u001b[39m\u001b[39m.\u001b[39mtgt_ids \u001b[39m=\u001b[39m []\n",
      "\u001b[0;31mAttributeError\u001b[0m: 'TranslationDataset' object has no attribute 'src_tokens'"
     ]
    }
   ],
   "source": [
    "data.TranslationDataset(\n",
    "    \"./clean_texts/train.en.txt\",\n",
    "    \"./clean_texts/val.en.txt\",\n",
    "    Tokenizer.from_file(\"tokenizers/tokenizer_en.json\"),\n",
    "    Tokenizer.from_file(\"tokenizers/tokenizer_de.json\")\n",
    ")"
   ]
  },
  {
   "cell_type": "code",
   "execution_count": 39,
   "metadata": {},
   "outputs": [
    {
     "data": {
      "text/plain": [
       "[2, 6419, 15, 380, 4, 3, 1, 1, 1, 1, 1, 1, 1]"
      ]
     },
     "execution_count": 39,
     "metadata": {},
     "output_type": "execute_result"
    }
   ],
   "source": [
    "tokenizer.enable_truncation(max_length=20)\n",
    "tokenizer.enable_padding(pad_id=1, pad_token=\"[PAD]\")\n",
    "tokenizer.encode_batch([\"Hello, world!\\n\", 'My name is Dmitriy, and you? '])[0].ids"
   ]
  },
  {
   "cell_type": "code",
   "execution_count": null,
   "metadata": {},
   "outputs": [],
   "source": []
  }
 ],
 "metadata": {
  "kernelspec": {
   "display_name": "Python 3.10.8 ('dl')",
   "language": "python",
   "name": "python3"
  },
  "language_info": {
   "codemirror_mode": {
    "name": "ipython",
    "version": 3
   },
   "file_extension": ".py",
   "mimetype": "text/x-python",
   "name": "python",
   "nbconvert_exporter": "python",
   "pygments_lexer": "ipython3",
   "version": "3.10.8"
  },
  "orig_nbformat": 4,
  "vscode": {
   "interpreter": {
    "hash": "3367d37e191d5d09bca00e48ce2f4940194c54dccf095f8d444c62940cfa8c6c"
   }
  }
 },
 "nbformat": 4,
 "nbformat_minor": 2
}
